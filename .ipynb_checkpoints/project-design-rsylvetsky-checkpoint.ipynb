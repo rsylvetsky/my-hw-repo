{
 "cells": [
  {
   "cell_type": "markdown",
   "metadata": {},
   "source": [
    "### Project Problem and Hypothesis"
   ]
  },
  {
   "cell_type": "markdown",
   "metadata": {},
   "source": [
    "#### 1. What's the project about? What problem are you solving?"
   ]
  },
  {
   "cell_type": "markdown",
   "metadata": {},
   "source": [
    "Using a complex list of keyword rules, my team is able to sort through a group of tweets and find buckets of conversations happening on Twitter about many topics. Topic clustering on these buckets of tweets would help us with two problems.\n",
    "\n",
    "* While it's certainly helpful to have the bucket of tweets about an event or topic, we don't have a good way to understand the themes in conversation happening within an event. Through a topic clustering model, I hope to provide more insight into the different conversation themes people tend to follow when discussing topic X.\n",
    "* Clustering conversations will also allow us to spot bad data. If we know to expect certain clusters about topic X and see nonsequitor unexpected clusters of conversation about unrelated topic Y, we know there may be bad keyword rules to verify."
   ]
  },
  {
   "cell_type": "markdown",
   "metadata": {},
   "source": [
    "#### 2. Where does this seem to reside as a machine learning problem? Are you predicting some continuous number, or predicting a binary value?"
   ]
  },
  {
   "cell_type": "markdown",
   "metadata": {},
   "source": [
    "This is an unsupervised machine learning problem as there aren't any labels that we're able to group by, we don't know our output. As I believe I'll be embedding words/text into vectors of numbers, I believe this would be a continuous, unsupervised analysis. "
   ]
  },
  {
   "cell_type": "markdown",
   "metadata": {},
   "source": [
    "#### 3. What kind of impact do you think it could have?"
   ]
  },
  {
   "cell_type": "markdown",
   "metadata": {},
   "source": [
    "As noted in question 1, I believe this will help our team in two ways. One is through providing deeper insights, second is for QA support."
   ]
  },
  {
   "cell_type": "markdown",
   "metadata": {},
   "source": [
    "#### 4. What do you think will have the most impact in predicting the value you are interested in solving for?"
   ]
  },
  {
   "cell_type": "markdown",
   "metadata": {},
   "source": [
    "Given that this isn't a supervised prediction or classification analysis, I don't think there's one feature of the text that will have the most impact. I think the biggest contributor to the quality of the clustering will ultimately be finding the right model to group the embedded text with. "
   ]
  },
  {
   "cell_type": "markdown",
   "metadata": {},
   "source": [
    "### Datasets"
   ]
  },
  {
   "cell_type": "markdown",
   "metadata": {},
   "source": [
    "#### 1. Description of data set available, at the field level (see table)"
   ]
  },
  {
   "cell_type": "markdown",
   "metadata": {},
   "source": [
    "Variable | Description | Type of Variable\n",
    "---| ---| ---\n",
    "Text| English tweet text about topic X  | Currently 'string' but will be converted to numerical, continuous after embedding\n"
   ]
  },
  {
   "cell_type": "markdown",
   "metadata": {},
   "source": [
    "### Domain knowledge"
   ]
  },
  {
   "cell_type": "markdown",
   "metadata": {},
   "source": [
    "#### 1. What experience do you already have around this area? Does it relate or help inform the project in any way?"
   ]
  },
  {
   "cell_type": "markdown",
   "metadata": {},
   "source": [
    "* I've spent the last 4 years on my team understanding how a user may use different keyword signals to tweet about a topic. Given the topic, I'm very well versed in understanding the different types of conversation I'd expect to see grouped. Now I just want to see if quantitative modeling reflects my expectations & highlights any new clusters I didn't expect. \n",
    "\n",
    "* Given this experience, I'm familiar with certain pitfalls of text data I may want to look out for. Given the trouble with tokenization of Japanese text for example, I'll only be looking at English text. I will also make sure to remove stopwords from the analysis. \n",
    "\n",
    "* I spent a part of our company's last hackweek thinking about this project as well. I'm familiar with the very very very basics of tfidf for vectorization but need to explore a lot more of this literature &  models like kmeans"
   ]
  },
  {
   "cell_type": "markdown",
   "metadata": {},
   "source": [
    "#### 3. What other research efforts exist?"
   ]
  },
  {
   "cell_type": "markdown",
   "metadata": {},
   "source": [
    "\n",
    "* Use a quick Google search to see what approaches others have made, or talk with your colleagues if it is work related about previous attempts at similar problems.\n",
    "* This could even just be something like \"the marketing team put together a forecast in excel that doesn't do well.\"\n",
    "* Include a benchmark, how other models have performed, even if you are unsure what the metric means."
   ]
  },
  {
   "cell_type": "markdown",
   "metadata": {},
   "source": [
    "Currently on my team, most of this analysis is done manually by keyword analysis. We'll pull the top tweeted terms about Topic X and then breakdown what kinds of themes would drive each keyword. This is obviously extremely slow & subjective to the person doing the analysis. \n",
    "\n",
    "In my hackweek project, we mainly used tfidf to embedded the text into vectors and out of the box kmeans models to do the actual clustering. This was useful, but kmeans requires you to pre-select the number of clusters it outputs. It'd be interesting to explore a) other models that don't require this b) ways to optimize the k (hyper parameter observation)\n",
    "\n",
    "A quick google search shows there are many ways to vectorize text and many ways to model the clusters once you have that vector. \n",
    "\n",
    "Some embedding options are:\n",
    "\n",
    "* TF/IDF. Needs training\n",
    "* Tagspace. Pre-trained\n",
    "* CX word2vec. Pre-trained\n",
    "* Facebook fastText. Pre-trained\n",
    "* Facebook fastText. Needs training\n",
    "\n",
    "Some clustering models include: \n",
    "* k-means\n",
    "* hierarchical clustering, \n",
    "* probabilistic clustering, \n",
    "* DBSCAN, \n",
    "* OPTICS, \n",
    "* biclustering, \n",
    "* HCS clustering,  \n",
    "* neural networks (yikes). \n",
    "\n",
    "One of the biggest problems with the clustering that was part of the hackweek project was the 'label' of each cluster. Once you have a group of tweets, how do you decide which tweet best exemplifies the cluster? "
   ]
  },
  {
   "cell_type": "markdown",
   "metadata": {},
   "source": [
    "### Project Concerns"
   ]
  },
  {
   "cell_type": "markdown",
   "metadata": {},
   "source": [
    "#### 1. What questions do you have about your project? What are you not sure you quite yet understand? (The more honest you are about this, the easier your instructors can help)."
   ]
  },
  {
   "cell_type": "markdown",
   "metadata": {},
   "source": [
    "The concept of embedding text into vectors is still a little vague to me. I understand that it's just a list of numbers that are used to describe words/text so you can do grouping. Where I get confused is whether the vector is at the word level, or is it at the tweet level or the document level? Do you clean up the data first (eg remove stopwords) and then vectorize, and then run your cluster model? "
   ]
  },
  {
   "cell_type": "markdown",
   "metadata": {},
   "source": [
    "I'm also really unsure how to visualize these clustered vectors given that they're going to be many dimensions."
   ]
  },
  {
   "cell_type": "markdown",
   "metadata": {},
   "source": [
    "What's the best way to label or define a cluster once you've clustered it accurately?"
   ]
  },
  {
   "cell_type": "markdown",
   "metadata": {},
   "source": [
    "Are all clusters the same size? This probably depends on the clustering model you use."
   ]
  },
  {
   "cell_type": "markdown",
   "metadata": {},
   "source": [
    "#### 2. What are the assumptions and caveats to the problem?"
   ]
  },
  {
   "cell_type": "markdown",
   "metadata": {},
   "source": [
    "  * What data do you not have access to but wish you had?\n",
    "  * What is already implied about the observations in your data set? For example, if your primary data set is twitter data, it may not be representative of the whole sample (say, predicting who would win an election)b"
   ]
  },
  {
   "cell_type": "markdown",
   "metadata": {},
   "source": [
    "One caveat to this clustering problem is that we can't really take the clusters from this set of tweets and force another set of tweets into them. The clusters for this data set really are only relevant to the tweets we pull them from. "
   ]
  },
  {
   "cell_type": "markdown",
   "metadata": {},
   "source": [
    "#### 3. What are the risks to the project?\n"
   ]
  },
  {
   "cell_type": "markdown",
   "metadata": {},
   "source": [
    "* What's the cost of your model being wrong? (What's the benefit of your model being right?)\n",
    "* Is any of the data incorrect? Could it be incorrect?"
   ]
  },
  {
   "cell_type": "markdown",
   "metadata": {},
   "source": [
    "The insights we take from the clustering are only as good as the clusters themselves. If we don't have good clusters, we won't learn anything about the themes people use to tweet about Topic X. If the clusters are good, it would be great to find some learnings that would give us some high level insights about what twitter users are driven to tweet most about per topic\n",
    "\n",
    "If there is bad data, this will actually help my case. I'm hoping bad data would cluster itself as well and could be a good red-flag for us to find mistakes in our data keyword logic."
   ]
  },
  {
   "cell_type": "markdown",
   "metadata": {},
   "source": [
    "### Outcomes"
   ]
  },
  {
   "cell_type": "markdown",
   "metadata": {},
   "source": [
    "#### 1. What do you expect the output to look like?"
   ]
  },
  {
   "cell_type": "markdown",
   "metadata": {},
   "source": [
    "I believe the initial output may just be a dataframe of tweets with their assigned 'cluster' number. I would love the final output to be a scatterplot with each cluster marked by a different color. From there, I'd love to be able to identify which clusters are the biggest (if possible). \n",
    "\n",
    "An interesting followup would be to add engagement data per tweet. It would be an interesting output to know which tweet theme garners the most engagement from users."
   ]
  },
  {
   "cell_type": "markdown",
   "metadata": {},
   "source": [
    "#### 2. What does your target audience expect the output to look like?"
   ]
  },
  {
   "cell_type": "markdown",
   "metadata": {},
   "source": [
    "My target audience is less interested in the tweet-level data. They're more interested in the insights and the visualization. An easy answer to the question \"what are the most tweeted about themes for topic X\""
   ]
  },
  {
   "cell_type": "markdown",
   "metadata": {},
   "source": [
    "#### 3. What gain do you expect from your most important feature on its own?"
   ]
  },
  {
   "cell_type": "markdown",
   "metadata": {},
   "source": [
    "Not really relevant since this is text clustering, not a regression."
   ]
  },
  {
   "cell_type": "markdown",
   "metadata": {},
   "source": [
    "#### 4. How complicated does your model have to be?"
   ]
  },
  {
   "cell_type": "markdown",
   "metadata": {},
   "source": [
    "This is a really good question. I suspect the more complex or nuanced clustering model I use, the best output of clusters I'll have. I think I'll start with what I'm familiar with, k-means, and then move on to try and compare this to others."
   ]
  },
  {
   "cell_type": "markdown",
   "metadata": {},
   "source": [
    "#### 5. How successful does your project have to be in order to be considered a \"success\"?"
   ]
  },
  {
   "cell_type": "markdown",
   "metadata": {},
   "source": [
    "If I can have one model output clusters that provides novel insights into the conversation themes, this will be a success. If I can visualize these clusters in a way that shows these clusters, this will be especially successful. If I can visualize and cluster my text in multiple models to find the best one, that would be the dream."
   ]
  },
  {
   "cell_type": "markdown",
   "metadata": {},
   "source": [
    "#### 6. What will you do if the project is a bust (this happens! but it shouldn't here)?"
   ]
  },
  {
   "cell_type": "markdown",
   "metadata": {},
   "source": [
    "Keep reading up on the different models/methodologies to clustering. Explore some of the kaggle datasets to see if I can try replicating the analysis on a smaller, simpler scale. Accept that the conversation about topics on Twitter may be too random to easily summarize in sub-clusters."
   ]
  },
  {
   "cell_type": "code",
   "execution_count": null,
   "metadata": {
    "collapsed": true
   },
   "outputs": [],
   "source": []
  }
 ],
 "metadata": {
  "kernelspec": {
   "display_name": "Python 3",
   "language": "python",
   "name": "python3"
  },
  "language_info": {
   "codemirror_mode": {
    "name": "ipython",
    "version": 3
   },
   "file_extension": ".py",
   "mimetype": "text/x-python",
   "name": "python",
   "nbconvert_exporter": "python",
   "pygments_lexer": "ipython3",
   "version": "3.6.3"
  }
 },
 "nbformat": 4,
 "nbformat_minor": 2
}
