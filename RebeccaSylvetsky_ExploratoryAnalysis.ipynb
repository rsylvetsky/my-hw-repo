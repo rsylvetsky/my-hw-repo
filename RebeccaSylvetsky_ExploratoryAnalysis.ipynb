{
 "cells": [
  {
   "cell_type": "code",
   "execution_count": 14,
   "metadata": {
    "collapsed": true
   },
   "outputs": [],
   "source": [
    "import pandas as pd\n",
    "import numpy as np\n",
    "import seaborn as sns\n",
    "%matplotlib inline\n",
    "import matplotlib.pyplot as plt\n",
    "import sys\n",
    "stdout = sys.stdout\n",
    "reload(sys)\n",
    "sys.setdefaultencoding('utf-8')\n",
    "sys.stdout = stdout"
   ]
  },
  {
   "cell_type": "markdown",
   "metadata": {},
   "source": [
    "# Can you predict wine variety based on desciption?"
   ]
  },
  {
   "cell_type": "markdown",
   "metadata": {},
   "source": [
    "## Importing & Cleaning the data"
   ]
  },
  {
   "cell_type": "markdown",
   "metadata": {},
   "source": [
    "I imported the data and only kept the most interesting features. While I'm going to start predicting wine variety with description, I'm keeping some of the other attributes of the wine (price ,points, region, province, winery, country) as potentials outcomes and features to potentially explore later."
   ]
  },
  {
   "cell_type": "code",
   "execution_count": 15,
   "metadata": {
    "collapsed": true
   },
   "outputs": [],
   "source": [
    "df = pd.read_csv('/Users/rsylvetsky/downloads/wine-reviews/winemag-data-130k-v2.csv')\n",
    "df = df[['country', 'description','points','price','province', 'region_1','region_2','variety','title','winery']]"
   ]
  },
  {
   "cell_type": "markdown",
   "metadata": {},
   "source": [
    "I read that this dataset had some duplicates, so I wanted to see just how many and I decided to drop all duplicate descriptions"
   ]
  },
  {
   "cell_type": "code",
   "execution_count": 16,
   "metadata": {},
   "outputs": [
    {
     "data": {
      "text/plain": [
       "country        10012\n",
       "description    10016\n",
       "points         10016\n",
       "price           9408\n",
       "province       10012\n",
       "region_1        8327\n",
       "region_2        3751\n",
       "variety        10016\n",
       "title          10016\n",
       "winery         10016\n",
       "dtype: int64"
      ]
     },
     "execution_count": 16,
     "metadata": {},
     "output_type": "execute_result"
    }
   ],
   "source": [
    "df[df.duplicated(subset='description') == True].count()\n"
   ]
  },
  {
   "cell_type": "code",
   "execution_count": 17,
   "metadata": {
    "collapsed": true
   },
   "outputs": [],
   "source": [
    "df_cln = df.drop_duplicates(subset= 'description')"
   ]
  },
  {
   "cell_type": "code",
   "execution_count": 18,
   "metadata": {},
   "outputs": [
    {
     "data": {
      "text/plain": [
       "country         object\n",
       "description     object\n",
       "points           int64\n",
       "price          float64\n",
       "province        object\n",
       "region_1        object\n",
       "region_2        object\n",
       "variety         object\n",
       "title           object\n",
       "winery          object\n",
       "dtype: object"
      ]
     },
     "execution_count": 18,
     "metadata": {},
     "output_type": "execute_result"
    }
   ],
   "source": [
    "df_cln.dtypes"
   ]
  },
  {
   "cell_type": "markdown",
   "metadata": {},
   "source": [
    "### Below is the Data Dictionary for this analysis\n",
    "Variable | Description | Type of Variable\n",
    "---| ---| ---\n",
    "country | name of the country of origin of wine | string\n",
    "description | sommelier's description of wine | string\n",
    "points | point score of wine given by sommelier. between 80 and 100 | discrete \n",
    "price | the price of the wine being reviewed | discrete\n",
    "province | the general area where the wine is from | string\n",
    "region_1 | specific region where the wine is from | string\n",
    "region_2 | secondary region where the wine is from | string\n",
    "variety | the type of wine | string\n",
    "title | the name of the wine | string\n",
    "winery | the name of the vineyard the wine is from | string\n",
    "\n"
   ]
  },
  {
   "cell_type": "markdown",
   "metadata": {},
   "source": [
    "There are a lot of null values in this dataset, mainly in the following features: country, designation, price, province, region_1, & region_2. I'm not sure if I'll be using using any other features beyond Descriptions for now. Before deleting or imputing the null values these features, I'm going to explore the description data set. "
   ]
  },
  {
   "cell_type": "code",
   "execution_count": 19,
   "metadata": {},
   "outputs": [
    {
     "data": {
      "text/plain": [
       "country           59\n",
       "description        0\n",
       "points             0\n",
       "price           8388\n",
       "province          59\n",
       "region_1       19558\n",
       "region_2       73195\n",
       "variety            1\n",
       "title              0\n",
       "winery             0\n",
       "dtype: int64"
      ]
     },
     "execution_count": 19,
     "metadata": {},
     "output_type": "execute_result"
    }
   ],
   "source": [
    "df_cln.isnull().sum()"
   ]
  },
  {
   "cell_type": "markdown",
   "metadata": {},
   "source": [
    "## Exploration of the Descriptions Data"
   ]
  },
  {
   "cell_type": "code",
   "execution_count": 20,
   "metadata": {},
   "outputs": [
    {
     "name": "stdout",
     "output_type": "stream",
     "text": [
      "There were 10016 duplicate descriptions that I removed\n"
     ]
    }
   ],
   "source": [
    "print \"There were\" ,len(df) - len(df_cln), \"duplicate descriptions that I removed\""
   ]
  },
  {
   "cell_type": "code",
   "execution_count": 21,
   "metadata": {},
   "outputs": [
    {
     "name": "stdout",
     "output_type": "stream",
     "text": [
      "There are a total of  707 types of wine! That's way more than I expected\n"
     ]
    }
   ],
   "source": [
    "print \"There are a total of \", df_cln.variety.nunique(), \"types of wine! That's way more than I expected\""
   ]
  },
  {
   "cell_type": "markdown",
   "metadata": {},
   "source": [
    "There are a lot of wines varieties that only have one description. There probably isn't enough in  those descriptions to predict wine type, even with the other features. I need to figure out where to cut off my descriptions count per variety.  Before doing that though, I want to understand better how many descriptions per wine there are in my data set."
   ]
  },
  {
   "cell_type": "code",
   "execution_count": 22,
   "metadata": {},
   "outputs": [
    {
     "data": {
      "text/html": [
       "<div>\n",
       "<style>\n",
       "    .dataframe thead tr:only-child th {\n",
       "        text-align: right;\n",
       "    }\n",
       "\n",
       "    .dataframe thead th {\n",
       "        text-align: left;\n",
       "    }\n",
       "\n",
       "    .dataframe tbody tr th {\n",
       "        vertical-align: top;\n",
       "    }\n",
       "</style>\n",
       "<table border=\"1\" class=\"dataframe\">\n",
       "  <thead>\n",
       "    <tr style=\"text-align: right;\">\n",
       "      <th></th>\n",
       "      <th>variety</th>\n",
       "      <th>description</th>\n",
       "    </tr>\n",
       "  </thead>\n",
       "  <tbody>\n",
       "    <tr>\n",
       "      <th>440</th>\n",
       "      <td>Pinot Noir</td>\n",
       "      <td>12277</td>\n",
       "    </tr>\n",
       "    <tr>\n",
       "      <th>125</th>\n",
       "      <td>Chardonnay</td>\n",
       "      <td>10867</td>\n",
       "    </tr>\n",
       "    <tr>\n",
       "      <th>80</th>\n",
       "      <td>Cabernet Sauvignon</td>\n",
       "      <td>8837</td>\n",
       "    </tr>\n",
       "    <tr>\n",
       "      <th>473</th>\n",
       "      <td>Red Blend</td>\n",
       "      <td>8239</td>\n",
       "    </tr>\n",
       "    <tr>\n",
       "      <th>62</th>\n",
       "      <td>Bordeaux-style Red Blend</td>\n",
       "      <td>6469</td>\n",
       "    </tr>\n",
       "    <tr>\n",
       "      <th>479</th>\n",
       "      <td>Riesling</td>\n",
       "      <td>4773</td>\n",
       "    </tr>\n",
       "    <tr>\n",
       "      <th>514</th>\n",
       "      <td>Sauvignon Blanc</td>\n",
       "      <td>4574</td>\n",
       "    </tr>\n",
       "    <tr>\n",
       "      <th>560</th>\n",
       "      <td>Syrah</td>\n",
       "      <td>3826</td>\n",
       "    </tr>\n",
       "    <tr>\n",
       "      <th>492</th>\n",
       "      <td>Rosé</td>\n",
       "      <td>3220</td>\n",
       "    </tr>\n",
       "    <tr>\n",
       "      <th>326</th>\n",
       "      <td>Merlot</td>\n",
       "      <td>2895</td>\n",
       "    </tr>\n",
       "    <tr>\n",
       "      <th>383</th>\n",
       "      <td>Nebbiolo</td>\n",
       "      <td>2602</td>\n",
       "    </tr>\n",
       "    <tr>\n",
       "      <th>702</th>\n",
       "      <td>Zinfandel</td>\n",
       "      <td>2530</td>\n",
       "    </tr>\n",
       "    <tr>\n",
       "      <th>506</th>\n",
       "      <td>Sangiovese</td>\n",
       "      <td>2460</td>\n",
       "    </tr>\n",
       "    <tr>\n",
       "      <th>280</th>\n",
       "      <td>Malbec</td>\n",
       "      <td>2446</td>\n",
       "    </tr>\n",
       "    <tr>\n",
       "      <th>450</th>\n",
       "      <td>Portuguese Red</td>\n",
       "      <td>2282</td>\n",
       "    </tr>\n",
       "    <tr>\n",
       "      <th>690</th>\n",
       "      <td>White Blend</td>\n",
       "      <td>2179</td>\n",
       "    </tr>\n",
       "    <tr>\n",
       "      <th>553</th>\n",
       "      <td>Sparkling Blend</td>\n",
       "      <td>1971</td>\n",
       "    </tr>\n",
       "    <tr>\n",
       "      <th>584</th>\n",
       "      <td>Tempranillo</td>\n",
       "      <td>1671</td>\n",
       "    </tr>\n",
       "    <tr>\n",
       "      <th>475</th>\n",
       "      <td>Rhône-style Red Blend</td>\n",
       "      <td>1343</td>\n",
       "    </tr>\n",
       "    <tr>\n",
       "      <th>436</th>\n",
       "      <td>Pinot Gris</td>\n",
       "      <td>1324</td>\n",
       "    </tr>\n",
       "    <tr>\n",
       "      <th>121</th>\n",
       "      <td>Champagne Blend</td>\n",
       "      <td>1308</td>\n",
       "    </tr>\n",
       "    <tr>\n",
       "      <th>71</th>\n",
       "      <td>Cabernet Franc</td>\n",
       "      <td>1242</td>\n",
       "    </tr>\n",
       "    <tr>\n",
       "      <th>238</th>\n",
       "      <td>Grüner Veltliner</td>\n",
       "      <td>1200</td>\n",
       "    </tr>\n",
       "    <tr>\n",
       "      <th>453</th>\n",
       "      <td>Portuguese White</td>\n",
       "      <td>1057</td>\n",
       "    </tr>\n",
       "    <tr>\n",
       "      <th>63</th>\n",
       "      <td>Bordeaux-style White Blend</td>\n",
       "      <td>993</td>\n",
       "    </tr>\n",
       "    <tr>\n",
       "      <th>434</th>\n",
       "      <td>Pinot Grigio</td>\n",
       "      <td>980</td>\n",
       "    </tr>\n",
       "    <tr>\n",
       "      <th>209</th>\n",
       "      <td>Gewürztraminer</td>\n",
       "      <td>940</td>\n",
       "    </tr>\n",
       "    <tr>\n",
       "      <th>194</th>\n",
       "      <td>Gamay</td>\n",
       "      <td>926</td>\n",
       "    </tr>\n",
       "    <tr>\n",
       "      <th>673</th>\n",
       "      <td>Viognier</td>\n",
       "      <td>922</td>\n",
       "    </tr>\n",
       "    <tr>\n",
       "      <th>536</th>\n",
       "      <td>Shiraz</td>\n",
       "      <td>790</td>\n",
       "    </tr>\n",
       "    <tr>\n",
       "      <th>...</th>\n",
       "      <td>...</td>\n",
       "      <td>...</td>\n",
       "    </tr>\n",
       "    <tr>\n",
       "      <th>605</th>\n",
       "      <td>Tinta Madeira</td>\n",
       "      <td>1</td>\n",
       "    </tr>\n",
       "    <tr>\n",
       "      <th>607</th>\n",
       "      <td>Tinta Negra Mole</td>\n",
       "      <td>1</td>\n",
       "    </tr>\n",
       "    <tr>\n",
       "      <th>225</th>\n",
       "      <td>Grenache Gris</td>\n",
       "      <td>1</td>\n",
       "    </tr>\n",
       "    <tr>\n",
       "      <th>217</th>\n",
       "      <td>Graševina</td>\n",
       "      <td>1</td>\n",
       "    </tr>\n",
       "    <tr>\n",
       "      <th>612</th>\n",
       "      <td>Tintilia</td>\n",
       "      <td>1</td>\n",
       "    </tr>\n",
       "    <tr>\n",
       "      <th>208</th>\n",
       "      <td>Gelber Traminer</td>\n",
       "      <td>1</td>\n",
       "    </tr>\n",
       "    <tr>\n",
       "      <th>254</th>\n",
       "      <td>Karasakiz</td>\n",
       "      <td>1</td>\n",
       "    </tr>\n",
       "    <tr>\n",
       "      <th>259</th>\n",
       "      <td>Kotsifali</td>\n",
       "      <td>1</td>\n",
       "    </tr>\n",
       "    <tr>\n",
       "      <th>337</th>\n",
       "      <td>Merseguera-Sauvignon Blanc</td>\n",
       "      <td>1</td>\n",
       "    </tr>\n",
       "    <tr>\n",
       "      <th>260</th>\n",
       "      <td>Kuntra</td>\n",
       "      <td>1</td>\n",
       "    </tr>\n",
       "    <tr>\n",
       "      <th>334</th>\n",
       "      <td>Merlot-Shiraz</td>\n",
       "      <td>1</td>\n",
       "    </tr>\n",
       "    <tr>\n",
       "      <th>333</th>\n",
       "      <td>Merlot-Petite Verdot</td>\n",
       "      <td>1</td>\n",
       "    </tr>\n",
       "    <tr>\n",
       "      <th>556</th>\n",
       "      <td>St. Vincent</td>\n",
       "      <td>1</td>\n",
       "    </tr>\n",
       "    <tr>\n",
       "      <th>331</th>\n",
       "      <td>Merlot-Grenache</td>\n",
       "      <td>1</td>\n",
       "    </tr>\n",
       "    <tr>\n",
       "      <th>327</th>\n",
       "      <td>Merlot-Argaman</td>\n",
       "      <td>1</td>\n",
       "    </tr>\n",
       "    <tr>\n",
       "      <th>319</th>\n",
       "      <td>Mavroudi</td>\n",
       "      <td>1</td>\n",
       "    </tr>\n",
       "    <tr>\n",
       "      <th>318</th>\n",
       "      <td>Mavrotragano</td>\n",
       "      <td>1</td>\n",
       "    </tr>\n",
       "    <tr>\n",
       "      <th>561</th>\n",
       "      <td>Syrah-Bonarda</td>\n",
       "      <td>1</td>\n",
       "    </tr>\n",
       "    <tr>\n",
       "      <th>317</th>\n",
       "      <td>Mavrokalavryta</td>\n",
       "      <td>1</td>\n",
       "    </tr>\n",
       "    <tr>\n",
       "      <th>306</th>\n",
       "      <td>Maria Gomes-Bical</td>\n",
       "      <td>1</td>\n",
       "    </tr>\n",
       "    <tr>\n",
       "      <th>305</th>\n",
       "      <td>Maria Gomes</td>\n",
       "      <td>1</td>\n",
       "    </tr>\n",
       "    <tr>\n",
       "      <th>567</th>\n",
       "      <td>Syrah-Grenache-Viognier</td>\n",
       "      <td>1</td>\n",
       "    </tr>\n",
       "    <tr>\n",
       "      <th>568</th>\n",
       "      <td>Syrah-Malbec</td>\n",
       "      <td>1</td>\n",
       "    </tr>\n",
       "    <tr>\n",
       "      <th>286</th>\n",
       "      <td>Malbec-Carménère</td>\n",
       "      <td>1</td>\n",
       "    </tr>\n",
       "    <tr>\n",
       "      <th>577</th>\n",
       "      <td>Tamianka</td>\n",
       "      <td>1</td>\n",
       "    </tr>\n",
       "    <tr>\n",
       "      <th>578</th>\n",
       "      <td>Tamjanika</td>\n",
       "      <td>1</td>\n",
       "    </tr>\n",
       "    <tr>\n",
       "      <th>279</th>\n",
       "      <td>Malagouzia-Chardonnay</td>\n",
       "      <td>1</td>\n",
       "    </tr>\n",
       "    <tr>\n",
       "      <th>273</th>\n",
       "      <td>Macabeo-Moscatel</td>\n",
       "      <td>1</td>\n",
       "    </tr>\n",
       "    <tr>\n",
       "      <th>270</th>\n",
       "      <td>Loureiro-Arinto</td>\n",
       "      <td>1</td>\n",
       "    </tr>\n",
       "    <tr>\n",
       "      <th>706</th>\n",
       "      <td>Žilavka</td>\n",
       "      <td>1</td>\n",
       "    </tr>\n",
       "  </tbody>\n",
       "</table>\n",
       "<p>707 rows × 2 columns</p>\n",
       "</div>"
      ],
      "text/plain": [
       "                        variety  description\n",
       "440                  Pinot Noir        12277\n",
       "125                  Chardonnay        10867\n",
       "80           Cabernet Sauvignon         8837\n",
       "473                   Red Blend         8239\n",
       "62     Bordeaux-style Red Blend         6469\n",
       "479                    Riesling         4773\n",
       "514             Sauvignon Blanc         4574\n",
       "560                       Syrah         3826\n",
       "492                        Rosé         3220\n",
       "326                      Merlot         2895\n",
       "383                    Nebbiolo         2602\n",
       "702                   Zinfandel         2530\n",
       "506                  Sangiovese         2460\n",
       "280                      Malbec         2446\n",
       "450              Portuguese Red         2282\n",
       "690                 White Blend         2179\n",
       "553             Sparkling Blend         1971\n",
       "584                 Tempranillo         1671\n",
       "475       Rhône-style Red Blend         1343\n",
       "436                  Pinot Gris         1324\n",
       "121             Champagne Blend         1308\n",
       "71               Cabernet Franc         1242\n",
       "238            Grüner Veltliner         1200\n",
       "453            Portuguese White         1057\n",
       "63   Bordeaux-style White Blend          993\n",
       "434                Pinot Grigio          980\n",
       "209              Gewürztraminer          940\n",
       "194                       Gamay          926\n",
       "673                    Viognier          922\n",
       "536                      Shiraz          790\n",
       "..                          ...          ...\n",
       "605               Tinta Madeira            1\n",
       "607            Tinta Negra Mole            1\n",
       "225               Grenache Gris            1\n",
       "217                   Graševina            1\n",
       "612                   Tintilia             1\n",
       "208             Gelber Traminer            1\n",
       "254                   Karasakiz            1\n",
       "259                   Kotsifali            1\n",
       "337  Merseguera-Sauvignon Blanc            1\n",
       "260                      Kuntra            1\n",
       "334               Merlot-Shiraz            1\n",
       "333        Merlot-Petite Verdot            1\n",
       "556                 St. Vincent            1\n",
       "331             Merlot-Grenache            1\n",
       "327              Merlot-Argaman            1\n",
       "319                    Mavroudi            1\n",
       "318                Mavrotragano            1\n",
       "561               Syrah-Bonarda            1\n",
       "317              Mavrokalavryta            1\n",
       "306           Maria Gomes-Bical            1\n",
       "305                 Maria Gomes            1\n",
       "567     Syrah-Grenache-Viognier            1\n",
       "568                Syrah-Malbec            1\n",
       "286            Malbec-Carménère            1\n",
       "577                    Tamianka            1\n",
       "578                   Tamjanika            1\n",
       "279       Malagouzia-Chardonnay            1\n",
       "273            Macabeo-Moscatel            1\n",
       "270             Loureiro-Arinto            1\n",
       "706                     Žilavka            1\n",
       "\n",
       "[707 rows x 2 columns]"
      ]
     },
     "execution_count": 22,
     "metadata": {},
     "output_type": "execute_result"
    }
   ],
   "source": [
    "#Some of output showing how many wines only have one description\n",
    "df_cnt= df_cln[['variety','description']].groupby(by='variety').count().reset_index().sort_values(by='description',ascending=False)\n",
    "df_cnt"
   ]
  },
  {
   "cell_type": "markdown",
   "metadata": {},
   "source": [
    "Taking a look at this data in bar graph form below, you can see just how much the amount of descriptions per wine varies. "
   ]
  },
  {
   "cell_type": "code",
   "execution_count": 24,
   "metadata": {},
   "outputs": [
    {
     "data": {
      "image/png": "[encoded data removed]",
      "text/plain": [
       "<matplotlib.figure.Figure at 0x1a164fecd0>"
      ]
     },
     "metadata": {},
     "output_type": "display_data"
    }
   ],
   "source": [
    "#df_cnt.set_index('variety')['description'].head(300)[::-1].plot(kind='bar', figsize=(15,5))\n",
    "#plt.show()\n",
    "#reload(sys)  \n",
    "#sys.setdefaultencoding('utf8')\n",
    "import matplotlib.pyplot as plt\n",
    "\n",
    "x = df_cnt[df_cnt['description'] > 10]['variety']\n",
    "y = df_cnt[df_cnt['description'] > 10]['description']\n",
    "\n",
    "\n",
    "plt.figure(figsize=(20,10))\n",
    "\n",
    "df_cnt.set_index('variety')\n",
    "ax = sns.barplot(x=x,y=y,palette=  sns.color_palette(\"BuGn_r\")).set_title(\"Number of Descriptions Per Wine\");\n",
    "\n",
    "#ax.set_xticklabels(rotation=30);\n",
    "plt.xticks(rotation=45)\n",
    "plt.show()"
   ]
  },
  {
   "cell_type": "code",
   "execution_count": 31,
   "metadata": {},
   "outputs": [
    {
     "name": "stdout",
     "output_type": "stream",
     "text": [
      "The standard deviation for count of descriptions is 903.240762063 ...this is pretty big\n"
     ]
    }
   ],
   "source": [
    "std=df_cnt.std()[0]\n",
    "\n",
    "print \"The standard deviation for count of descriptions is\", std,\"...this is pretty big\"\n",
    "#Again, the Standard Deviation is big for descriptions by wine."
   ]
  },
  {
   "cell_type": "markdown",
   "metadata": {},
   "source": [
    "I know that I need to cutoff the descriptions somewhere because prediction will be tough with too few. In order to figure out where to set the cutoff mark for which wines to include or exclude from my analysis, I want to understand the number of descriptions per variety a bit further. A quick .describe() shows that average amount of descriptions is 169, but the median is only 5. This is a pretty big discrepancy.  "
   ]
  },
  {
   "cell_type": "code",
   "execution_count": 17,
   "metadata": {},
   "outputs": [
    {
     "data": {
      "text/html": [
       "<div>\n",
       "<style>\n",
       "    .dataframe thead tr:only-child th {\n",
       "        text-align: right;\n",
       "    }\n",
       "\n",
       "    .dataframe thead th {\n",
       "        text-align: left;\n",
       "    }\n",
       "\n",
       "    .dataframe tbody tr th {\n",
       "        vertical-align: top;\n",
       "    }\n",
       "</style>\n",
       "<table border=\"1\" class=\"dataframe\">\n",
       "  <thead>\n",
       "    <tr style=\"text-align: right;\">\n",
       "      <th></th>\n",
       "      <th>description</th>\n",
       "    </tr>\n",
       "  </thead>\n",
       "  <tbody>\n",
       "    <tr>\n",
       "      <th>count</th>\n",
       "      <td>707.000000</td>\n",
       "    </tr>\n",
       "    <tr>\n",
       "      <th>mean</th>\n",
       "      <td>169.666195</td>\n",
       "    </tr>\n",
       "    <tr>\n",
       "      <th>std</th>\n",
       "      <td>903.240762</td>\n",
       "    </tr>\n",
       "    <tr>\n",
       "      <th>min</th>\n",
       "      <td>1.000000</td>\n",
       "    </tr>\n",
       "    <tr>\n",
       "      <th>25%</th>\n",
       "      <td>2.000000</td>\n",
       "    </tr>\n",
       "    <tr>\n",
       "      <th>50%</th>\n",
       "      <td>5.000000</td>\n",
       "    </tr>\n",
       "    <tr>\n",
       "      <th>75%</th>\n",
       "      <td>26.500000</td>\n",
       "    </tr>\n",
       "    <tr>\n",
       "      <th>max</th>\n",
       "      <td>12277.000000</td>\n",
       "    </tr>\n",
       "  </tbody>\n",
       "</table>\n",
       "</div>"
      ],
      "text/plain": [
       "        description\n",
       "count    707.000000\n",
       "mean     169.666195\n",
       "std      903.240762\n",
       "min        1.000000\n",
       "25%        2.000000\n",
       "50%        5.000000\n",
       "75%       26.500000\n",
       "max    12277.000000"
      ]
     },
     "execution_count": 17,
     "metadata": {},
     "output_type": "execute_result"
    }
   ],
   "source": [
    "df_cnt.describe() "
   ]
  },
  {
   "cell_type": "markdown",
   "metadata": {},
   "source": [
    "Below, I explore the bar graph a little more with different cuts to see where to cut off."
   ]
  },
  {
   "cell_type": "code",
   "execution_count": 18,
   "metadata": {},
   "outputs": [
    {
     "data": {
      "image/png": "[encoded data removed]",
      "text/plain": [
       "<matplotlib.figure.Figure at 0x1a1ae57610>"
      ]
     },
     "metadata": {},
     "output_type": "display_data"
    }
   ],
   "source": [
    "#df_cnt.set_index('variety')['description'].head(300)[::-1].plot(kind='bar', figsize=(15,5))\n",
    "#plt.show()\n",
    "import matplotlib.pyplot as plt\n",
    "\n",
    "\n",
    "x = df_cnt[df_cnt['description'] >= 200]['variety']\n",
    "y = df_cnt[df_cnt['description'] >= 200]['description']\n",
    "\n",
    "plt.figure(figsize=(20,10))\n",
    "\n",
    "df_cnt.set_index('variety')\n",
    "ax = sns.barplot(x=x,y=y,palette=  sns.color_palette(\"BuGn_r\")).set_title(\"Number of Descriptions Per Wines with At least 200 Descriptions\");\n",
    "\n",
    "#ax.set_xticklabels(rotation=30);\n",
    "plt.xticks(rotation=45)\n",
    "plt.show()"
   ]
  },
  {
   "cell_type": "code",
   "execution_count": 19,
   "metadata": {},
   "outputs": [
    {
     "data": {
      "image/png": "[encoded data removed]",
      "text/plain": [
       "<matplotlib.figure.Figure at 0x1a1ad2ced0>"
      ]
     },
     "metadata": {},
     "output_type": "display_data"
    }
   ],
   "source": [
    "#df_cnt.set_index('variety')['description'].head(300)[::-1].plot(kind='bar', figsize=(15,5))\n",
    "#plt.show()\n",
    "import matplotlib.pyplot as plt\n",
    "\n",
    "\n",
    "x = df_cnt[(df_cnt['description'] >= 200) &(df_cnt['description'] < 1200)  ]['variety']\n",
    "y = df_cnt[(df_cnt['description'] >= 200) &(df_cnt['description'] < 1200) ]['description']\n",
    "\n",
    "plt.figure(figsize=(20,10))\n",
    "\n",
    "df_cnt.set_index('variety')\n",
    "ax = sns.barplot(x=x,y=y,palette=  sns.color_palette(\"BuGn_r\")).set_title(\"Number of Descriptions Per Wines with At least 200 Descriptions and Less Than 1200\");\n",
    "\n",
    "#ax.set_xticklabels(rotation=30);\n",
    "plt.xticks(rotation=45)\n",
    "plt.show()"
   ]
  },
  {
   "cell_type": "code",
   "execution_count": 33,
   "metadata": {},
   "outputs": [
    {
     "data": {
      "text/html": [
       "<div>\n",
       "<style>\n",
       "    .dataframe thead tr:only-child th {\n",
       "        text-align: right;\n",
       "    }\n",
       "\n",
       "    .dataframe thead th {\n",
       "        text-align: left;\n",
       "    }\n",
       "\n",
       "    .dataframe tbody tr th {\n",
       "        vertical-align: top;\n",
       "    }\n",
       "</style>\n",
       "<table border=\"1\" class=\"dataframe\">\n",
       "  <thead>\n",
       "    <tr style=\"text-align: right;\">\n",
       "      <th></th>\n",
       "      <th>variety</th>\n",
       "      <th>description</th>\n",
       "    </tr>\n",
       "  </thead>\n",
       "  <tbody>\n",
       "    <tr>\n",
       "      <th>461</th>\n",
       "      <td>Prosecco</td>\n",
       "      <td>229</td>\n",
       "    </tr>\n",
       "    <tr>\n",
       "      <th>56</th>\n",
       "      <td>Blaufränkisch</td>\n",
       "      <td>213</td>\n",
       "    </tr>\n",
       "    <tr>\n",
       "      <th>459</th>\n",
       "      <td>Primitivo</td>\n",
       "      <td>210</td>\n",
       "    </tr>\n",
       "    <tr>\n",
       "      <th>362</th>\n",
       "      <td>Mourvèdre</td>\n",
       "      <td>210</td>\n",
       "    </tr>\n",
       "    <tr>\n",
       "      <th>662</th>\n",
       "      <td>Vermentino</td>\n",
       "      <td>207</td>\n",
       "    </tr>\n",
       "  </tbody>\n",
       "</table>\n",
       "</div>"
      ],
      "text/plain": [
       "           variety  description\n",
       "461       Prosecco          229\n",
       "56   Blaufränkisch          213\n",
       "459      Primitivo          210\n",
       "362      Mourvèdre          210\n",
       "662     Vermentino          207"
      ]
     },
     "execution_count": 33,
     "metadata": {},
     "output_type": "execute_result"
    }
   ],
   "source": [
    "df_cnt[(df_cnt['description'] >= 200)].tail()"
   ]
  },
  {
   "cell_type": "markdown",
   "metadata": {},
   "source": [
    "I'm going to try my analysis with at least 200 descriptions per wine type. If this is successful, it may be interesting to try the model on wine varieties with fewer descriptions. "
   ]
  },
  {
   "cell_type": "code",
   "execution_count": 34,
   "metadata": {
    "collapsed": true
   },
   "outputs": [],
   "source": [
    "df_cnt = df_cnt.set_index('variety')"
   ]
  },
  {
   "cell_type": "markdown",
   "metadata": {},
   "source": [
    "I'm removing the wines with less than 200 descriptions from my dataset"
   ]
  },
  {
   "cell_type": "code",
   "execution_count": 35,
   "metadata": {
    "collapsed": true
   },
   "outputs": [],
   "source": [
    "wine_list = []\n",
    "for i in df_cnt[df_cnt['description'] >= 200].index:\n",
    "    wine_list.append(i)\n"
   ]
  },
  {
   "cell_type": "code",
   "execution_count": null,
   "metadata": {
    "collapsed": true
   },
   "outputs": [],
   "source": []
  },
  {
   "cell_type": "code",
   "execution_count": 36,
   "metadata": {},
   "outputs": [
    {
     "data": {
      "text/html": [
       "<div>\n",
       "<style>\n",
       "    .dataframe thead tr:only-child th {\n",
       "        text-align: right;\n",
       "    }\n",
       "\n",
       "    .dataframe thead th {\n",
       "        text-align: left;\n",
       "    }\n",
       "\n",
       "    .dataframe tbody tr th {\n",
       "        vertical-align: top;\n",
       "    }\n",
       "</style>\n",
       "<table border=\"1\" class=\"dataframe\">\n",
       "  <thead>\n",
       "    <tr style=\"text-align: right;\">\n",
       "      <th></th>\n",
       "      <th>country</th>\n",
       "      <th>description</th>\n",
       "      <th>points</th>\n",
       "      <th>price</th>\n",
       "      <th>province</th>\n",
       "      <th>region_1</th>\n",
       "      <th>region_2</th>\n",
       "      <th>variety</th>\n",
       "      <th>title</th>\n",
       "      <th>winery</th>\n",
       "    </tr>\n",
       "  </thead>\n",
       "  <tbody>\n",
       "    <tr>\n",
       "      <th>0</th>\n",
       "      <td>Italy</td>\n",
       "      <td>Aromas include tropical fruit, broom, brimston...</td>\n",
       "      <td>87</td>\n",
       "      <td>NaN</td>\n",
       "      <td>Sicily &amp; Sardinia</td>\n",
       "      <td>Etna</td>\n",
       "      <td>NaN</td>\n",
       "      <td>White Blend</td>\n",
       "      <td>Nicosia 2013 Vulkà Bianco  (Etna)</td>\n",
       "      <td>Nicosia</td>\n",
       "    </tr>\n",
       "    <tr>\n",
       "      <th>1</th>\n",
       "      <td>Portugal</td>\n",
       "      <td>This is ripe and fruity, a wine that is smooth...</td>\n",
       "      <td>87</td>\n",
       "      <td>15.0</td>\n",
       "      <td>Douro</td>\n",
       "      <td>NaN</td>\n",
       "      <td>NaN</td>\n",
       "      <td>Portuguese Red</td>\n",
       "      <td>Quinta dos Avidagos 2011 Avidagos Red (Douro)</td>\n",
       "      <td>Quinta dos Avidagos</td>\n",
       "    </tr>\n",
       "    <tr>\n",
       "      <th>2</th>\n",
       "      <td>US</td>\n",
       "      <td>Tart and snappy, the flavors of lime flesh and...</td>\n",
       "      <td>87</td>\n",
       "      <td>14.0</td>\n",
       "      <td>Oregon</td>\n",
       "      <td>Willamette Valley</td>\n",
       "      <td>Willamette Valley</td>\n",
       "      <td>Pinot Gris</td>\n",
       "      <td>Rainstorm 2013 Pinot Gris (Willamette Valley)</td>\n",
       "      <td>Rainstorm</td>\n",
       "    </tr>\n",
       "    <tr>\n",
       "      <th>3</th>\n",
       "      <td>US</td>\n",
       "      <td>Pineapple rind, lemon pith and orange blossom ...</td>\n",
       "      <td>87</td>\n",
       "      <td>13.0</td>\n",
       "      <td>Michigan</td>\n",
       "      <td>Lake Michigan Shore</td>\n",
       "      <td>NaN</td>\n",
       "      <td>Riesling</td>\n",
       "      <td>St. Julian 2013 Reserve Late Harvest Riesling ...</td>\n",
       "      <td>St. Julian</td>\n",
       "    </tr>\n",
       "    <tr>\n",
       "      <th>4</th>\n",
       "      <td>US</td>\n",
       "      <td>Much like the regular bottling from 2012, this...</td>\n",
       "      <td>87</td>\n",
       "      <td>65.0</td>\n",
       "      <td>Oregon</td>\n",
       "      <td>Willamette Valley</td>\n",
       "      <td>Willamette Valley</td>\n",
       "      <td>Pinot Noir</td>\n",
       "      <td>Sweet Cheeks 2012 Vintner's Reserve Wild Child...</td>\n",
       "      <td>Sweet Cheeks</td>\n",
       "    </tr>\n",
       "  </tbody>\n",
       "</table>\n",
       "</div>"
      ],
      "text/plain": [
       "    country                                        description  points  price  \\\n",
       "0     Italy  Aromas include tropical fruit, broom, brimston...      87    NaN   \n",
       "1  Portugal  This is ripe and fruity, a wine that is smooth...      87   15.0   \n",
       "2        US  Tart and snappy, the flavors of lime flesh and...      87   14.0   \n",
       "3        US  Pineapple rind, lemon pith and orange blossom ...      87   13.0   \n",
       "4        US  Much like the regular bottling from 2012, this...      87   65.0   \n",
       "\n",
       "            province             region_1           region_2         variety  \\\n",
       "0  Sicily & Sardinia                 Etna                NaN     White Blend   \n",
       "1              Douro                  NaN                NaN  Portuguese Red   \n",
       "2             Oregon    Willamette Valley  Willamette Valley      Pinot Gris   \n",
       "3           Michigan  Lake Michigan Shore                NaN        Riesling   \n",
       "4             Oregon    Willamette Valley  Willamette Valley      Pinot Noir   \n",
       "\n",
       "                                               title               winery  \n",
       "0                  Nicosia 2013 Vulkà Bianco  (Etna)              Nicosia  \n",
       "1      Quinta dos Avidagos 2011 Avidagos Red (Douro)  Quinta dos Avidagos  \n",
       "2      Rainstorm 2013 Pinot Gris (Willamette Valley)            Rainstorm  \n",
       "3  St. Julian 2013 Reserve Late Harvest Riesling ...           St. Julian  \n",
       "4  Sweet Cheeks 2012 Vintner's Reserve Wild Child...         Sweet Cheeks  "
      ]
     },
     "execution_count": 36,
     "metadata": {},
     "output_type": "execute_result"
    }
   ],
   "source": [
    "df_cln.head()"
   ]
  },
  {
   "cell_type": "code",
   "execution_count": 37,
   "metadata": {
    "collapsed": true
   },
   "outputs": [],
   "source": [
    "df_cln = df_cln[df_cln['variety'].isin(wine_list)]"
   ]
  },
  {
   "cell_type": "code",
   "execution_count": 38,
   "metadata": {
    "collapsed": true
   },
   "outputs": [],
   "source": [
    "wine_list = map(lambda x:x.lower(),wine_list)"
   ]
  },
  {
   "cell_type": "code",
   "execution_count": null,
   "metadata": {
    "collapsed": true
   },
   "outputs": [],
   "source": []
  },
  {
   "cell_type": "code",
   "execution_count": 39,
   "metadata": {},
   "outputs": [
    {
     "data": {
      "text/html": [
       "<div>\n",
       "<style>\n",
       "    .dataframe thead tr:only-child th {\n",
       "        text-align: right;\n",
       "    }\n",
       "\n",
       "    .dataframe thead th {\n",
       "        text-align: left;\n",
       "    }\n",
       "\n",
       "    .dataframe tbody tr th {\n",
       "        vertical-align: top;\n",
       "    }\n",
       "</style>\n",
       "<table border=\"1\" class=\"dataframe\">\n",
       "  <thead>\n",
       "    <tr style=\"text-align: right;\">\n",
       "      <th></th>\n",
       "      <th>country</th>\n",
       "      <th>description</th>\n",
       "      <th>points</th>\n",
       "      <th>price</th>\n",
       "      <th>province</th>\n",
       "      <th>region_1</th>\n",
       "      <th>region_2</th>\n",
       "      <th>variety</th>\n",
       "      <th>title</th>\n",
       "      <th>winery</th>\n",
       "    </tr>\n",
       "  </thead>\n",
       "  <tbody>\n",
       "    <tr>\n",
       "      <th>0</th>\n",
       "      <td>Italy</td>\n",
       "      <td>Aromas include tropical fruit, broom, brimston...</td>\n",
       "      <td>87</td>\n",
       "      <td>NaN</td>\n",
       "      <td>Sicily &amp; Sardinia</td>\n",
       "      <td>Etna</td>\n",
       "      <td>NaN</td>\n",
       "      <td>White Blend</td>\n",
       "      <td>Nicosia 2013 Vulkà Bianco  (Etna)</td>\n",
       "      <td>Nicosia</td>\n",
       "    </tr>\n",
       "    <tr>\n",
       "      <th>1</th>\n",
       "      <td>Portugal</td>\n",
       "      <td>This is ripe and fruity, a wine that is smooth...</td>\n",
       "      <td>87</td>\n",
       "      <td>15.0</td>\n",
       "      <td>Douro</td>\n",
       "      <td>NaN</td>\n",
       "      <td>NaN</td>\n",
       "      <td>Portuguese Red</td>\n",
       "      <td>Quinta dos Avidagos 2011 Avidagos Red (Douro)</td>\n",
       "      <td>Quinta dos Avidagos</td>\n",
       "    </tr>\n",
       "    <tr>\n",
       "      <th>2</th>\n",
       "      <td>US</td>\n",
       "      <td>Tart and snappy, the flavors of lime flesh and...</td>\n",
       "      <td>87</td>\n",
       "      <td>14.0</td>\n",
       "      <td>Oregon</td>\n",
       "      <td>Willamette Valley</td>\n",
       "      <td>Willamette Valley</td>\n",
       "      <td>Pinot Gris</td>\n",
       "      <td>Rainstorm 2013 Pinot Gris (Willamette Valley)</td>\n",
       "      <td>Rainstorm</td>\n",
       "    </tr>\n",
       "    <tr>\n",
       "      <th>3</th>\n",
       "      <td>US</td>\n",
       "      <td>Pineapple rind, lemon pith and orange blossom ...</td>\n",
       "      <td>87</td>\n",
       "      <td>13.0</td>\n",
       "      <td>Michigan</td>\n",
       "      <td>Lake Michigan Shore</td>\n",
       "      <td>NaN</td>\n",
       "      <td>Riesling</td>\n",
       "      <td>St. Julian 2013 Reserve Late Harvest Riesling ...</td>\n",
       "      <td>St. Julian</td>\n",
       "    </tr>\n",
       "    <tr>\n",
       "      <th>4</th>\n",
       "      <td>US</td>\n",
       "      <td>Much like the regular bottling from 2012, this...</td>\n",
       "      <td>87</td>\n",
       "      <td>65.0</td>\n",
       "      <td>Oregon</td>\n",
       "      <td>Willamette Valley</td>\n",
       "      <td>Willamette Valley</td>\n",
       "      <td>Pinot Noir</td>\n",
       "      <td>Sweet Cheeks 2012 Vintner's Reserve Wild Child...</td>\n",
       "      <td>Sweet Cheeks</td>\n",
       "    </tr>\n",
       "  </tbody>\n",
       "</table>\n",
       "</div>"
      ],
      "text/plain": [
       "    country                                        description  points  price  \\\n",
       "0     Italy  Aromas include tropical fruit, broom, brimston...      87    NaN   \n",
       "1  Portugal  This is ripe and fruity, a wine that is smooth...      87   15.0   \n",
       "2        US  Tart and snappy, the flavors of lime flesh and...      87   14.0   \n",
       "3        US  Pineapple rind, lemon pith and orange blossom ...      87   13.0   \n",
       "4        US  Much like the regular bottling from 2012, this...      87   65.0   \n",
       "\n",
       "            province             region_1           region_2         variety  \\\n",
       "0  Sicily & Sardinia                 Etna                NaN     White Blend   \n",
       "1              Douro                  NaN                NaN  Portuguese Red   \n",
       "2             Oregon    Willamette Valley  Willamette Valley      Pinot Gris   \n",
       "3           Michigan  Lake Michigan Shore                NaN        Riesling   \n",
       "4             Oregon    Willamette Valley  Willamette Valley      Pinot Noir   \n",
       "\n",
       "                                               title               winery  \n",
       "0                  Nicosia 2013 Vulkà Bianco  (Etna)              Nicosia  \n",
       "1      Quinta dos Avidagos 2011 Avidagos Red (Douro)  Quinta dos Avidagos  \n",
       "2      Rainstorm 2013 Pinot Gris (Willamette Valley)            Rainstorm  \n",
       "3  St. Julian 2013 Reserve Late Harvest Riesling ...           St. Julian  \n",
       "4  Sweet Cheeks 2012 Vintner's Reserve Wild Child...         Sweet Cheeks  "
      ]
     },
     "execution_count": 39,
     "metadata": {},
     "output_type": "execute_result"
    }
   ],
   "source": [
    "df_cln.head()"
   ]
  },
  {
   "cell_type": "code",
   "execution_count": 40,
   "metadata": {},
   "outputs": [
    {
     "name": "stdout",
     "output_type": "stream",
     "text": [
      "there are a total of  59 types of wine that will be used in this analysis\n"
     ]
    }
   ],
   "source": [
    "print \"there are a total of \", df_cln.variety.nunique(), \"types of wine that will be used in this analysis\""
   ]
  },
  {
   "cell_type": "code",
   "execution_count": 41,
   "metadata": {
    "collapsed": true
   },
   "outputs": [],
   "source": [
    "wine_list.append('zin')"
   ]
  },
  {
   "cell_type": "code",
   "execution_count": 42,
   "metadata": {},
   "outputs": [
    {
     "data": {
      "text/plain": [
       "['pinot noir',\n",
       " 'chardonnay',\n",
       " 'cabernet sauvignon',\n",
       " 'red blend',\n",
       " 'bordeaux-style red blend',\n",
       " 'riesling',\n",
       " 'sauvignon blanc',\n",
       " 'syrah',\n",
       " 'ros\\xc3\\xa9',\n",
       " 'merlot',\n",
       " 'nebbiolo',\n",
       " 'zinfandel',\n",
       " 'sangiovese',\n",
       " 'malbec',\n",
       " 'portuguese red',\n",
       " 'white blend',\n",
       " 'sparkling blend',\n",
       " 'tempranillo',\n",
       " 'rh\\xc3\\xb4ne-style red blend',\n",
       " 'pinot gris',\n",
       " 'champagne blend',\n",
       " 'cabernet franc',\n",
       " 'gr\\xc3\\xbcner veltliner',\n",
       " 'portuguese white',\n",
       " 'bordeaux-style white blend',\n",
       " 'pinot grigio',\n",
       " 'gew\\xc3\\xbcrztraminer',\n",
       " 'gamay',\n",
       " 'viognier',\n",
       " 'shiraz',\n",
       " 'petite sirah',\n",
       " 'sangiovese grosso',\n",
       " 'glera',\n",
       " 'barbera',\n",
       " 'port',\n",
       " 'grenache',\n",
       " 'corvina, rondinella, molinara',\n",
       " 'tempranillo blend',\n",
       " 'chenin blanc',\n",
       " 'carmen\\xc3\\xa8re',\n",
       " 'albari\\xc3\\xb1o',\n",
       " 'pinot blanc',\n",
       " 'rh\\xc3\\xb4ne-style white blend',\n",
       " 'aglianico',\n",
       " 'moscato',\n",
       " \"nero d'avola\",\n",
       " 'garnacha',\n",
       " 'sauvignon',\n",
       " 'verdejo',\n",
       " 'melon',\n",
       " 'petit verdot',\n",
       " 'garganega',\n",
       " 'meritage',\n",
       " 'torront\\xc3\\xa9s',\n",
       " 'prosecco',\n",
       " 'blaufr\\xc3\\xa4nkisch',\n",
       " 'primitivo',\n",
       " 'mourv\\xc3\\xa8dre',\n",
       " 'vermentino',\n",
       " 'zin']"
      ]
     },
     "execution_count": 42,
     "metadata": {},
     "output_type": "execute_result"
    }
   ],
   "source": [
    "wine_list"
   ]
  },
  {
   "cell_type": "markdown",
   "metadata": {},
   "source": [
    "## Preparing the Descriptions Data Set for Modeling"
   ]
  },
  {
   "cell_type": "markdown",
   "metadata": {},
   "source": [
    "First, I just want to do some housekeeping to make all the text lowercase as well as get add in the length of the descriptions per observation."
   ]
  },
  {
   "cell_type": "code",
   "execution_count": 43,
   "metadata": {
    "collapsed": true
   },
   "outputs": [],
   "source": [
    "df_cln['description'] = df_cln[['description']].apply(lambda x: x.str.lower())\n",
    "df_cln['country'] = df_cln[['country']].apply(lambda x: x.str.lower())\n",
    "df_cln['province'] = df_cln[['province']].apply(lambda x: x.str.lower())\n",
    "df_cln['region_1'] = df_cln[['region_1']].apply(lambda x: x.str.lower())\n",
    "df_cln['variety'] = df_cln[['variety']].apply(lambda x: x.str.lower())\n",
    "df_cln['title'] = df_cln[['title']].apply(lambda x: x.str.lower())\n",
    "df_cln['winery'] = df_cln[['winery']].apply(lambda x: x.str.lower())\n",
    "\n",
    "#Make all the text in this dataset lower case. There are definitely ways to make the above code more efficient. \n"
   ]
  },
  {
   "cell_type": "markdown",
   "metadata": {},
   "source": [
    "I just want to make sure all of these descriptions look more or less the same, that some wines aren't shorter or longer than the other, thus giving them an unfair bias for prediction."
   ]
  },
  {
   "cell_type": "code",
   "execution_count": 44,
   "metadata": {
    "collapsed": true
   },
   "outputs": [],
   "source": [
    "df_cln['length'] =  df_cln['description'].str.len()\n"
   ]
  },
  {
   "cell_type": "code",
   "execution_count": 45,
   "metadata": {},
   "outputs": [
    {
     "data": {
      "text/html": [
       "<div>\n",
       "<style>\n",
       "    .dataframe thead tr:only-child th {\n",
       "        text-align: right;\n",
       "    }\n",
       "\n",
       "    .dataframe thead th {\n",
       "        text-align: left;\n",
       "    }\n",
       "\n",
       "    .dataframe tbody tr th {\n",
       "        vertical-align: top;\n",
       "    }\n",
       "</style>\n",
       "<table border=\"1\" class=\"dataframe\">\n",
       "  <thead>\n",
       "    <tr style=\"text-align: right;\">\n",
       "      <th></th>\n",
       "      <th>country</th>\n",
       "      <th>description</th>\n",
       "      <th>points</th>\n",
       "      <th>price</th>\n",
       "      <th>province</th>\n",
       "      <th>region_1</th>\n",
       "      <th>region_2</th>\n",
       "      <th>variety</th>\n",
       "      <th>title</th>\n",
       "      <th>winery</th>\n",
       "      <th>length</th>\n",
       "    </tr>\n",
       "  </thead>\n",
       "  <tbody>\n",
       "    <tr>\n",
       "      <th>0</th>\n",
       "      <td>italy</td>\n",
       "      <td>aromas include tropical fruit, broom, brimston...</td>\n",
       "      <td>87</td>\n",
       "      <td>NaN</td>\n",
       "      <td>sicily &amp; sardinia</td>\n",
       "      <td>etna</td>\n",
       "      <td>NaN</td>\n",
       "      <td>white blend</td>\n",
       "      <td>nicosia 2013 vulkà bianco  (etna)</td>\n",
       "      <td>nicosia</td>\n",
       "      <td>172</td>\n",
       "    </tr>\n",
       "    <tr>\n",
       "      <th>1</th>\n",
       "      <td>portugal</td>\n",
       "      <td>this is ripe and fruity, a wine that is smooth...</td>\n",
       "      <td>87</td>\n",
       "      <td>15.0</td>\n",
       "      <td>douro</td>\n",
       "      <td>NaN</td>\n",
       "      <td>NaN</td>\n",
       "      <td>portuguese red</td>\n",
       "      <td>quinta dos avidagos 2011 avidagos red (douro)</td>\n",
       "      <td>quinta dos avidagos</td>\n",
       "      <td>227</td>\n",
       "    </tr>\n",
       "    <tr>\n",
       "      <th>2</th>\n",
       "      <td>us</td>\n",
       "      <td>tart and snappy, the flavors of lime flesh and...</td>\n",
       "      <td>87</td>\n",
       "      <td>14.0</td>\n",
       "      <td>oregon</td>\n",
       "      <td>willamette valley</td>\n",
       "      <td>Willamette Valley</td>\n",
       "      <td>pinot gris</td>\n",
       "      <td>rainstorm 2013 pinot gris (willamette valley)</td>\n",
       "      <td>rainstorm</td>\n",
       "      <td>186</td>\n",
       "    </tr>\n",
       "  </tbody>\n",
       "</table>\n",
       "</div>"
      ],
      "text/plain": [
       "    country                                        description  points  price  \\\n",
       "0     italy  aromas include tropical fruit, broom, brimston...      87    NaN   \n",
       "1  portugal  this is ripe and fruity, a wine that is smooth...      87   15.0   \n",
       "2        us  tart and snappy, the flavors of lime flesh and...      87   14.0   \n",
       "\n",
       "            province           region_1           region_2         variety  \\\n",
       "0  sicily & sardinia               etna                NaN     white blend   \n",
       "1              douro                NaN                NaN  portuguese red   \n",
       "2             oregon  willamette valley  Willamette Valley      pinot gris   \n",
       "\n",
       "                                           title               winery  length  \n",
       "0              nicosia 2013 vulkà bianco  (etna)              nicosia     172  \n",
       "1  quinta dos avidagos 2011 avidagos red (douro)  quinta dos avidagos     227  \n",
       "2  rainstorm 2013 pinot gris (willamette valley)            rainstorm     186  "
      ]
     },
     "execution_count": 45,
     "metadata": {},
     "output_type": "execute_result"
    }
   ],
   "source": [
    "df_cln.head(3)"
   ]
  },
  {
   "cell_type": "markdown",
   "metadata": {},
   "source": [
    "Looking at the bar graph below, it looks like the length of descriptions is pretty standard across the now limited dataset. This is good! "
   ]
  },
  {
   "cell_type": "code",
   "execution_count": 46,
   "metadata": {},
   "outputs": [
    {
     "data": {
      "image/png": "[encoded data removed]",
      "text/plain": [
       "<matplotlib.figure.Figure at 0x1a23d2fe10>"
      ]
     },
     "metadata": {},
     "output_type": "display_data"
    }
   ],
   "source": [
    "#df_cln[['variety','length']].groupby(by='variety').mean()['length']\n",
    "\n",
    "\n",
    "\n",
    "\n",
    "x = df_cln[['variety','length']].groupby(by='variety').mean().index\n",
    "y = df_cln[['variety','length']].groupby(by='variety').mean()['length']\n",
    "\n",
    "plt.figure(figsize=(20,10))\n",
    "\n",
    "ax = sns.barplot(x=x,y=y,palette=  sns.color_palette(\"GnBu_d\")).set_title('Average Length of Description Per Wine');\n",
    "\n",
    "#ax.set_xticklabels(rotation=30);\n",
    "plt.xticks(rotation=45)\n",
    "plt.show()"
   ]
  },
  {
   "cell_type": "markdown",
   "metadata": {},
   "source": [
    "# Reading through some of the descriptions below, it becomes clear that I need to:\n",
    "\n",
    "* Remove whitespace\n",
    "* Tokenize the strings\n",
    "* Remove stopwords\n",
    "* Remove the actual name of wines within the description. \n",
    "* Find the top words for some of the more obvious wines to see if they make sense\n",
    " \n"
   ]
  },
  {
   "cell_type": "code",
   "execution_count": 47,
   "metadata": {},
   "outputs": [
    {
     "data": {
      "text/plain": [
       "0                                                                                 aromas include tropical fruit, broom, brimstone and dried herb. the palate isn't overly expressive, offering unripened apple, citrus and dried sage alongside brisk acidity.\n",
       "1                          this is ripe and fruity, a wine that is smooth while still structured. firm tannins are filled out with juicy red berry fruits and freshened with acidity. it's  already drinkable, although it will certainly be better from 2016.\n",
       "2                                                                   tart and snappy, the flavors of lime flesh and rind dominate. some green pineapple pokes through, with crisp acidity underscoring the flavors. the wine was all stainless-steel fermented.\n",
       "3                                                      pineapple rind, lemon pith and orange blossom start off the aromas. the palate is a bit more opulent, with notes of honey-drizzled guava and mango giving way to a slightly astringent, semidry finish.\n",
       "4    much like the regular bottling from 2012, this comes across as rather rough and tannic, with rustic, earthy, herbal characteristics. nonetheless, if you think of it as a pleasantly unfussy country wine, it's a good companion to a hearty winter stew.\n",
       "Name: description, dtype: object"
      ]
     },
     "execution_count": 47,
     "metadata": {},
     "output_type": "execute_result"
    }
   ],
   "source": [
    "pd.options.display.max_colwidth = 300\n",
    "df_cln.description.head(5)"
   ]
  },
  {
   "cell_type": "markdown",
   "metadata": {
    "collapsed": true
   },
   "source": [
    "### Removing Whitespace\n"
   ]
  },
  {
   "cell_type": "code",
   "execution_count": 48,
   "metadata": {
    "collapsed": true
   },
   "outputs": [],
   "source": [
    "df_cln['description'] = df_cln[['description']].apply(lambda x: x.str.strip())\n",
    "df_cln['variety'] = df_cln[['variety']].apply(lambda x: x.str.strip())"
   ]
  },
  {
   "cell_type": "markdown",
   "metadata": {},
   "source": [
    "### Tokenizing the description"
   ]
  },
  {
   "cell_type": "code",
   "execution_count": 49,
   "metadata": {},
   "outputs": [
    {
     "data": {
      "text/html": [
       "<div>\n",
       "<style>\n",
       "    .dataframe thead tr:only-child th {\n",
       "        text-align: right;\n",
       "    }\n",
       "\n",
       "    .dataframe thead th {\n",
       "        text-align: left;\n",
       "    }\n",
       "\n",
       "    .dataframe tbody tr th {\n",
       "        vertical-align: top;\n",
       "    }\n",
       "</style>\n",
       "<table border=\"1\" class=\"dataframe\">\n",
       "  <thead>\n",
       "    <tr style=\"text-align: right;\">\n",
       "      <th></th>\n",
       "      <th>country</th>\n",
       "      <th>description</th>\n",
       "      <th>points</th>\n",
       "      <th>price</th>\n",
       "      <th>province</th>\n",
       "      <th>region_1</th>\n",
       "      <th>region_2</th>\n",
       "      <th>variety</th>\n",
       "      <th>title</th>\n",
       "      <th>winery</th>\n",
       "      <th>length</th>\n",
       "      <th>words</th>\n",
       "    </tr>\n",
       "  </thead>\n",
       "  <tbody>\n",
       "    <tr>\n",
       "      <th>0</th>\n",
       "      <td>italy</td>\n",
       "      <td>aromas include tropical fruit, broom, brimstone and dried herb. the palate isn't overly expressive, offering unripened apple, citrus and dried sage alongside brisk acidity.</td>\n",
       "      <td>87</td>\n",
       "      <td>NaN</td>\n",
       "      <td>sicily &amp; sardinia</td>\n",
       "      <td>etna</td>\n",
       "      <td>NaN</td>\n",
       "      <td>white blend</td>\n",
       "      <td>nicosia 2013 vulkà bianco  (etna)</td>\n",
       "      <td>nicosia</td>\n",
       "      <td>172</td>\n",
       "      <td>[aromas, include, tropical, fruit, broom, brimstone, and, dried, herb, the, palate, isn, t, overly, expressive, offering, unripened, apple, citrus, and, dried, sage, alongside, brisk, acidity, ]</td>\n",
       "    </tr>\n",
       "  </tbody>\n",
       "</table>\n",
       "</div>"
      ],
      "text/plain": [
       "  country  \\\n",
       "0   italy   \n",
       "\n",
       "                                                                                                                                                                    description  \\\n",
       "0  aromas include tropical fruit, broom, brimstone and dried herb. the palate isn't overly expressive, offering unripened apple, citrus and dried sage alongside brisk acidity.   \n",
       "\n",
       "   points  price           province region_1 region_2      variety  \\\n",
       "0      87    NaN  sicily & sardinia     etna      NaN  white blend   \n",
       "\n",
       "                               title   winery  length  \\\n",
       "0  nicosia 2013 vulkà bianco  (etna)  nicosia     172   \n",
       "\n",
       "                                                                                                                                                                                                words  \n",
       "0  [aromas, include, tropical, fruit, broom, brimstone, and, dried, herb, the, palate, isn, t, overly, expressive, offering, unripened, apple, citrus, and, dried, sage, alongside, brisk, acidity, ]  "
      ]
     },
     "execution_count": 49,
     "metadata": {},
     "output_type": "execute_result"
    }
   ],
   "source": [
    "df_cln['words'] = df_cln.description.str.strip().str.split('[\\W_]+')\n",
    "df_cln.head(1)"
   ]
  },
  {
   "cell_type": "markdown",
   "metadata": {},
   "source": [
    "### Removing Stopwords & Explicit Mentions of Wine Names"
   ]
  },
  {
   "cell_type": "code",
   "execution_count": 50,
   "metadata": {
    "collapsed": true
   },
   "outputs": [],
   "source": [
    "from nltk.corpus import stopwords\n",
    "stop = stopwords.words('english')\n"
   ]
  },
  {
   "cell_type": "code",
   "execution_count": 51,
   "metadata": {},
   "outputs": [
    {
     "name": "stdout",
     "output_type": "stream",
     "text": [
      "['pinot noir', 'chardonnay', 'cabernet sauvignon', 'red blend', 'bordeaux-style red blend', 'riesling', 'sauvignon blanc', 'syrah', 'ros\\xc3\\xa9', 'merlot', 'nebbiolo', 'zinfandel', 'sangiovese', 'malbec', 'portuguese red', 'white blend', 'sparkling blend', 'tempranillo', 'rh\\xc3\\xb4ne-style red blend', 'pinot gris', 'champagne blend', 'cabernet franc', 'gr\\xc3\\xbcner veltliner', 'portuguese white', 'bordeaux-style white blend', 'pinot grigio', 'gew\\xc3\\xbcrztraminer', 'gamay', 'viognier', 'shiraz', 'petite sirah', 'sangiovese grosso', 'glera', 'barbera', 'port', 'grenache', 'corvina, rondinella, molinara', 'tempranillo blend', 'chenin blanc', 'carmen\\xc3\\xa8re', 'albari\\xc3\\xb1o', 'pinot blanc', 'rh\\xc3\\xb4ne-style white blend', 'aglianico', 'moscato', \"nero d'avola\", 'garnacha', 'sauvignon', 'verdejo', 'melon', 'petit verdot', 'garganega', 'meritage', 'torront\\xc3\\xa9s', 'prosecco', 'blaufr\\xc3\\xa4nkisch', 'primitivo', 'mourv\\xc3\\xa8dre', 'vermentino', 'zin']\n"
     ]
    }
   ],
   "source": [
    "print wine_list\n"
   ]
  },
  {
   "cell_type": "code",
   "execution_count": 52,
   "metadata": {
    "collapsed": true
   },
   "outputs": [],
   "source": [
    "df_cln['cln_words'] = df_cln['words'].apply(lambda x: [item.lower() for item in x if item not in wine_list])"
   ]
  },
  {
   "cell_type": "code",
   "execution_count": 53,
   "metadata": {
    "collapsed": true
   },
   "outputs": [],
   "source": [
    "df_cln['cln_words'] = df_cln['cln_words'].apply(lambda x: [item for item in x if item not in stop])"
   ]
  },
  {
   "cell_type": "markdown",
   "metadata": {},
   "source": [
    "### Exploring which are the top words per wine. "
   ]
  },
  {
   "cell_type": "markdown",
   "metadata": {},
   "source": [
    "Since it's hard to know whether or not a text feature will be predictive, I'm just going to take a look at the top terms per wine variety to see if it's what I expect. "
   ]
  },
  {
   "cell_type": "code",
   "execution_count": 54,
   "metadata": {},
   "outputs": [
    {
     "data": {
      "text/html": [
       "<div>\n",
       "<style>\n",
       "    .dataframe thead tr:only-child th {\n",
       "        text-align: right;\n",
       "    }\n",
       "\n",
       "    .dataframe thead th {\n",
       "        text-align: left;\n",
       "    }\n",
       "\n",
       "    .dataframe tbody tr th {\n",
       "        vertical-align: top;\n",
       "    }\n",
       "</style>\n",
       "<table border=\"1\" class=\"dataframe\">\n",
       "  <thead>\n",
       "    <tr style=\"text-align: right;\">\n",
       "      <th></th>\n",
       "      <th>country</th>\n",
       "      <th>description</th>\n",
       "      <th>points</th>\n",
       "      <th>price</th>\n",
       "      <th>province</th>\n",
       "      <th>region_1</th>\n",
       "      <th>region_2</th>\n",
       "      <th>variety</th>\n",
       "      <th>title</th>\n",
       "      <th>winery</th>\n",
       "      <th>length</th>\n",
       "      <th>words</th>\n",
       "      <th>cln_words</th>\n",
       "    </tr>\n",
       "  </thead>\n",
       "  <tbody>\n",
       "    <tr>\n",
       "      <th>0</th>\n",
       "      <td>italy</td>\n",
       "      <td>aromas include tropical fruit, broom, brimstone and dried herb. the palate isn't overly expressive, offering unripened apple, citrus and dried sage alongside brisk acidity.</td>\n",
       "      <td>87</td>\n",
       "      <td>NaN</td>\n",
       "      <td>sicily &amp; sardinia</td>\n",
       "      <td>etna</td>\n",
       "      <td>NaN</td>\n",
       "      <td>white blend</td>\n",
       "      <td>nicosia 2013 vulkà bianco  (etna)</td>\n",
       "      <td>nicosia</td>\n",
       "      <td>172</td>\n",
       "      <td>[aromas, include, tropical, fruit, broom, brimstone, and, dried, herb, the, palate, isn, t, overly, expressive, offering, unripened, apple, citrus, and, dried, sage, alongside, brisk, acidity, ]</td>\n",
       "      <td>[aromas, include, tropical, fruit, broom, brimstone, dried, herb, palate, overly, expressive, offering, unripened, apple, citrus, dried, sage, alongside, brisk, acidity, ]</td>\n",
       "    </tr>\n",
       "  </tbody>\n",
       "</table>\n",
       "</div>"
      ],
      "text/plain": [
       "  country  \\\n",
       "0   italy   \n",
       "\n",
       "                                                                                                                                                                    description  \\\n",
       "0  aromas include tropical fruit, broom, brimstone and dried herb. the palate isn't overly expressive, offering unripened apple, citrus and dried sage alongside brisk acidity.   \n",
       "\n",
       "   points  price           province region_1 region_2      variety  \\\n",
       "0      87    NaN  sicily & sardinia     etna      NaN  white blend   \n",
       "\n",
       "                               title   winery  length  \\\n",
       "0  nicosia 2013 vulkà bianco  (etna)  nicosia     172   \n",
       "\n",
       "                                                                                                                                                                                                words  \\\n",
       "0  [aromas, include, tropical, fruit, broom, brimstone, and, dried, herb, the, palate, isn, t, overly, expressive, offering, unripened, apple, citrus, and, dried, sage, alongside, brisk, acidity, ]   \n",
       "\n",
       "                                                                                                                                                                     cln_words  \n",
       "0  [aromas, include, tropical, fruit, broom, brimstone, dried, herb, palate, overly, expressive, offering, unripened, apple, citrus, dried, sage, alongside, brisk, acidity, ]  "
      ]
     },
     "execution_count": 54,
     "metadata": {},
     "output_type": "execute_result"
    }
   ],
   "source": [
    "df_cln.head(1)"
   ]
  },
  {
   "cell_type": "code",
   "execution_count": 55,
   "metadata": {},
   "outputs": [
    {
     "data": {
      "text/html": [
       "<div>\n",
       "<style>\n",
       "    .dataframe thead tr:only-child th {\n",
       "        text-align: right;\n",
       "    }\n",
       "\n",
       "    .dataframe thead th {\n",
       "        text-align: left;\n",
       "    }\n",
       "\n",
       "    .dataframe tbody tr th {\n",
       "        vertical-align: top;\n",
       "    }\n",
       "</style>\n",
       "<table border=\"1\" class=\"dataframe\">\n",
       "  <thead>\n",
       "    <tr style=\"text-align: right;\">\n",
       "      <th></th>\n",
       "      <th>variety</th>\n",
       "      <th>word</th>\n",
       "    </tr>\n",
       "  </thead>\n",
       "  <tbody>\n",
       "    <tr>\n",
       "      <th>0</th>\n",
       "      <td>white blend</td>\n",
       "      <td>aromas</td>\n",
       "    </tr>\n",
       "    <tr>\n",
       "      <th>1</th>\n",
       "      <td>white blend</td>\n",
       "      <td>include</td>\n",
       "    </tr>\n",
       "    <tr>\n",
       "      <th>2</th>\n",
       "      <td>white blend</td>\n",
       "      <td>tropical</td>\n",
       "    </tr>\n",
       "    <tr>\n",
       "      <th>3</th>\n",
       "      <td>white blend</td>\n",
       "      <td>fruit</td>\n",
       "    </tr>\n",
       "    <tr>\n",
       "      <th>4</th>\n",
       "      <td>white blend</td>\n",
       "      <td>broom</td>\n",
       "    </tr>\n",
       "  </tbody>\n",
       "</table>\n",
       "</div>"
      ],
      "text/plain": [
       "       variety      word\n",
       "0  white blend    aromas\n",
       "1  white blend   include\n",
       "2  white blend  tropical\n",
       "3  white blend     fruit\n",
       "4  white blend     broom"
      ]
     },
     "execution_count": 55,
     "metadata": {},
     "output_type": "execute_result"
    }
   ],
   "source": [
    "rows = list()\n",
    "for row in df_cln[['variety', 'cln_words']].iterrows():\n",
    "    r = row[1]\n",
    "    for word in r.cln_words:\n",
    "        rows.append((r.variety, word))\n",
    "\n",
    "words = pd.DataFrame(rows, columns=['variety', 'word'])\n",
    "words.head()"
   ]
  },
  {
   "cell_type": "code",
   "execution_count": 56,
   "metadata": {},
   "outputs": [
    {
     "data": {
      "text/html": [
       "<div>\n",
       "<style>\n",
       "    .dataframe thead tr:only-child th {\n",
       "        text-align: right;\n",
       "    }\n",
       "\n",
       "    .dataframe thead th {\n",
       "        text-align: left;\n",
       "    }\n",
       "\n",
       "    .dataframe tbody tr th {\n",
       "        vertical-align: top;\n",
       "    }\n",
       "</style>\n",
       "<table border=\"1\" class=\"dataframe\">\n",
       "  <thead>\n",
       "    <tr style=\"text-align: right;\">\n",
       "      <th></th>\n",
       "      <th>variety</th>\n",
       "      <th>word</th>\n",
       "    </tr>\n",
       "  </thead>\n",
       "  <tbody>\n",
       "    <tr>\n",
       "      <th>0</th>\n",
       "      <td>white blend</td>\n",
       "      <td>aromas</td>\n",
       "    </tr>\n",
       "    <tr>\n",
       "      <th>1</th>\n",
       "      <td>white blend</td>\n",
       "      <td>include</td>\n",
       "    </tr>\n",
       "    <tr>\n",
       "      <th>2</th>\n",
       "      <td>white blend</td>\n",
       "      <td>tropical</td>\n",
       "    </tr>\n",
       "    <tr>\n",
       "      <th>3</th>\n",
       "      <td>white blend</td>\n",
       "      <td>fruit</td>\n",
       "    </tr>\n",
       "    <tr>\n",
       "      <th>4</th>\n",
       "      <td>white blend</td>\n",
       "      <td>broom</td>\n",
       "    </tr>\n",
       "  </tbody>\n",
       "</table>\n",
       "</div>"
      ],
      "text/plain": [
       "       variety      word\n",
       "0  white blend    aromas\n",
       "1  white blend   include\n",
       "2  white blend  tropical\n",
       "3  white blend     fruit\n",
       "4  white blend     broom"
      ]
     },
     "execution_count": 56,
     "metadata": {},
     "output_type": "execute_result"
    }
   ],
   "source": [
    "words = words[words.word.str.len() > 0]\n",
    "#Removing any white spaces that may still be hiding in there\n"
   ]
  },
  {
   "cell_type": "markdown",
   "metadata": {},
   "source": [
    "Now I am outputting what the top words per wine are. A quick look seems to show what you'd expect (eg. fruit for Zinfandel, cherry for others) "
   ]
  },
  {
   "cell_type": "code",
   "execution_count": 57,
   "metadata": {},
   "outputs": [
    {
     "data": {
      "text/html": [
       "<div>\n",
       "<style>\n",
       "    .dataframe thead tr:only-child th {\n",
       "        text-align: right;\n",
       "    }\n",
       "\n",
       "    .dataframe thead th {\n",
       "        text-align: left;\n",
       "    }\n",
       "\n",
       "    .dataframe tbody tr th {\n",
       "        vertical-align: top;\n",
       "    }\n",
       "</style>\n",
       "<table border=\"1\" class=\"dataframe\">\n",
       "  <thead>\n",
       "    <tr style=\"text-align: right;\">\n",
       "      <th></th>\n",
       "      <th></th>\n",
       "      <th>number_of_words</th>\n",
       "    </tr>\n",
       "    <tr>\n",
       "      <th>variety</th>\n",
       "      <th>word</th>\n",
       "      <th></th>\n",
       "    </tr>\n",
       "  </thead>\n",
       "  <tbody>\n",
       "    <tr>\n",
       "      <th rowspan=\"10\" valign=\"top\">aglianico</th>\n",
       "      <th>black</th>\n",
       "      <td>241</td>\n",
       "    </tr>\n",
       "    <tr>\n",
       "      <th>aromas</th>\n",
       "      <td>217</td>\n",
       "    </tr>\n",
       "    <tr>\n",
       "      <th>tannins</th>\n",
       "      <td>211</td>\n",
       "    </tr>\n",
       "    <tr>\n",
       "      <th>wine</th>\n",
       "      <td>174</td>\n",
       "    </tr>\n",
       "    <tr>\n",
       "      <th>cherry</th>\n",
       "      <td>167</td>\n",
       "    </tr>\n",
       "    <tr>\n",
       "      <th>palate</th>\n",
       "      <td>167</td>\n",
       "    </tr>\n",
       "    <tr>\n",
       "      <th>spice</th>\n",
       "      <td>159</td>\n",
       "    </tr>\n",
       "    <tr>\n",
       "      <th>fruit</th>\n",
       "      <td>147</td>\n",
       "    </tr>\n",
       "    <tr>\n",
       "      <th>drink</th>\n",
       "      <td>100</td>\n",
       "    </tr>\n",
       "    <tr>\n",
       "      <th>dark</th>\n",
       "      <td>99</td>\n",
       "    </tr>\n",
       "    <tr>\n",
       "      <th rowspan=\"10\" valign=\"top\">albariño</th>\n",
       "      <th>flavors</th>\n",
       "      <td>378</td>\n",
       "    </tr>\n",
       "    <tr>\n",
       "      <th>aromas</th>\n",
       "      <td>291</td>\n",
       "    </tr>\n",
       "    <tr>\n",
       "      <th>finish</th>\n",
       "      <td>260</td>\n",
       "    </tr>\n",
       "    <tr>\n",
       "      <th>apple</th>\n",
       "      <td>232</td>\n",
       "    </tr>\n",
       "    <tr>\n",
       "      <th>palate</th>\n",
       "      <td>210</td>\n",
       "    </tr>\n",
       "    <tr>\n",
       "      <th>citrus</th>\n",
       "      <td>170</td>\n",
       "    </tr>\n",
       "    <tr>\n",
       "      <th>peach</th>\n",
       "      <td>149</td>\n",
       "    </tr>\n",
       "    <tr>\n",
       "      <th>acidity</th>\n",
       "      <td>137</td>\n",
       "    </tr>\n",
       "    <tr>\n",
       "      <th>wine</th>\n",
       "      <td>136</td>\n",
       "    </tr>\n",
       "    <tr>\n",
       "      <th>white</th>\n",
       "      <td>132</td>\n",
       "    </tr>\n",
       "    <tr>\n",
       "      <th rowspan=\"10\" valign=\"top\">barbera</th>\n",
       "      <th>wine</th>\n",
       "      <td>342</td>\n",
       "    </tr>\n",
       "    <tr>\n",
       "      <th>aromas</th>\n",
       "      <td>336</td>\n",
       "    </tr>\n",
       "    <tr>\n",
       "      <th>cherry</th>\n",
       "      <td>311</td>\n",
       "    </tr>\n",
       "    <tr>\n",
       "      <th>black</th>\n",
       "      <td>306</td>\n",
       "    </tr>\n",
       "    <tr>\n",
       "      <th>fruit</th>\n",
       "      <td>305</td>\n",
       "    </tr>\n",
       "    <tr>\n",
       "      <th>palate</th>\n",
       "      <td>264</td>\n",
       "    </tr>\n",
       "    <tr>\n",
       "      <th>acidity</th>\n",
       "      <td>242</td>\n",
       "    </tr>\n",
       "    <tr>\n",
       "      <th>flavors</th>\n",
       "      <td>236</td>\n",
       "    </tr>\n",
       "    <tr>\n",
       "      <th>tannins</th>\n",
       "      <td>208</td>\n",
       "    </tr>\n",
       "    <tr>\n",
       "      <th>spice</th>\n",
       "      <td>198</td>\n",
       "    </tr>\n",
       "    <tr>\n",
       "      <th>...</th>\n",
       "      <th>...</th>\n",
       "      <td>...</td>\n",
       "    </tr>\n",
       "    <tr>\n",
       "      <th rowspan=\"10\" valign=\"top\">viognier</th>\n",
       "      <th>flavors</th>\n",
       "      <td>564</td>\n",
       "    </tr>\n",
       "    <tr>\n",
       "      <th>wine</th>\n",
       "      <td>445</td>\n",
       "    </tr>\n",
       "    <tr>\n",
       "      <th>fruit</th>\n",
       "      <td>359</td>\n",
       "    </tr>\n",
       "    <tr>\n",
       "      <th>finish</th>\n",
       "      <td>298</td>\n",
       "    </tr>\n",
       "    <tr>\n",
       "      <th>peach</th>\n",
       "      <td>280</td>\n",
       "    </tr>\n",
       "    <tr>\n",
       "      <th>palate</th>\n",
       "      <td>270</td>\n",
       "    </tr>\n",
       "    <tr>\n",
       "      <th>aromas</th>\n",
       "      <td>258</td>\n",
       "    </tr>\n",
       "    <tr>\n",
       "      <th>acidity</th>\n",
       "      <td>239</td>\n",
       "    </tr>\n",
       "    <tr>\n",
       "      <th>white</th>\n",
       "      <td>206</td>\n",
       "    </tr>\n",
       "    <tr>\n",
       "      <th>apricot</th>\n",
       "      <td>191</td>\n",
       "    </tr>\n",
       "    <tr>\n",
       "      <th rowspan=\"10\" valign=\"top\">white blend</th>\n",
       "      <th>wine</th>\n",
       "      <td>1207</td>\n",
       "    </tr>\n",
       "    <tr>\n",
       "      <th>blend</th>\n",
       "      <td>1113</td>\n",
       "    </tr>\n",
       "    <tr>\n",
       "      <th>flavors</th>\n",
       "      <td>995</td>\n",
       "    </tr>\n",
       "    <tr>\n",
       "      <th>white</th>\n",
       "      <td>933</td>\n",
       "    </tr>\n",
       "    <tr>\n",
       "      <th>aromas</th>\n",
       "      <td>913</td>\n",
       "    </tr>\n",
       "    <tr>\n",
       "      <th>fruit</th>\n",
       "      <td>868</td>\n",
       "    </tr>\n",
       "    <tr>\n",
       "      <th>palate</th>\n",
       "      <td>800</td>\n",
       "    </tr>\n",
       "    <tr>\n",
       "      <th>finish</th>\n",
       "      <td>623</td>\n",
       "    </tr>\n",
       "    <tr>\n",
       "      <th>acidity</th>\n",
       "      <td>615</td>\n",
       "    </tr>\n",
       "    <tr>\n",
       "      <th>apple</th>\n",
       "      <td>600</td>\n",
       "    </tr>\n",
       "    <tr>\n",
       "      <th rowspan=\"10\" valign=\"top\">zinfandel</th>\n",
       "      <th>wine</th>\n",
       "      <td>1467</td>\n",
       "    </tr>\n",
       "    <tr>\n",
       "      <th>flavors</th>\n",
       "      <td>1436</td>\n",
       "    </tr>\n",
       "    <tr>\n",
       "      <th>fruit</th>\n",
       "      <td>793</td>\n",
       "    </tr>\n",
       "    <tr>\n",
       "      <th>black</th>\n",
       "      <td>655</td>\n",
       "    </tr>\n",
       "    <tr>\n",
       "      <th>blackberry</th>\n",
       "      <td>619</td>\n",
       "    </tr>\n",
       "    <tr>\n",
       "      <th>tannins</th>\n",
       "      <td>608</td>\n",
       "    </tr>\n",
       "    <tr>\n",
       "      <th>cherry</th>\n",
       "      <td>595</td>\n",
       "    </tr>\n",
       "    <tr>\n",
       "      <th>finish</th>\n",
       "      <td>585</td>\n",
       "    </tr>\n",
       "    <tr>\n",
       "      <th>ripe</th>\n",
       "      <td>558</td>\n",
       "    </tr>\n",
       "    <tr>\n",
       "      <th>pepper</th>\n",
       "      <td>542</td>\n",
       "    </tr>\n",
       "  </tbody>\n",
       "</table>\n",
       "<p>590 rows × 1 columns</p>\n",
       "</div>"
      ],
      "text/plain": [
       "                        number_of_words\n",
       "variety     word                       \n",
       "aglianico   black                   241\n",
       "            aromas                  217\n",
       "            tannins                 211\n",
       "            wine                    174\n",
       "            cherry                  167\n",
       "            palate                  167\n",
       "            spice                   159\n",
       "            fruit                   147\n",
       "            drink                   100\n",
       "            dark                     99\n",
       "albariño    flavors                 378\n",
       "            aromas                  291\n",
       "            finish                  260\n",
       "            apple                   232\n",
       "            palate                  210\n",
       "            citrus                  170\n",
       "            peach                   149\n",
       "            acidity                 137\n",
       "            wine                    136\n",
       "            white                   132\n",
       "barbera     wine                    342\n",
       "            aromas                  336\n",
       "            cherry                  311\n",
       "            black                   306\n",
       "            fruit                   305\n",
       "            palate                  264\n",
       "            acidity                 242\n",
       "            flavors                 236\n",
       "            tannins                 208\n",
       "            spice                   198\n",
       "...                                 ...\n",
       "viognier    flavors                 564\n",
       "            wine                    445\n",
       "            fruit                   359\n",
       "            finish                  298\n",
       "            peach                   280\n",
       "            palate                  270\n",
       "            aromas                  258\n",
       "            acidity                 239\n",
       "            white                   206\n",
       "            apricot                 191\n",
       "white blend wine                   1207\n",
       "            blend                  1113\n",
       "            flavors                 995\n",
       "            white                   933\n",
       "            aromas                  913\n",
       "            fruit                   868\n",
       "            palate                  800\n",
       "            finish                  623\n",
       "            acidity                 615\n",
       "            apple                   600\n",
       "zinfandel   wine                   1467\n",
       "            flavors                1436\n",
       "            fruit                   793\n",
       "            black                   655\n",
       "            blackberry              619\n",
       "            tannins                 608\n",
       "            cherry                  595\n",
       "            finish                  585\n",
       "            ripe                    558\n",
       "            pepper                  542\n",
       "\n",
       "[590 rows x 1 columns]"
      ]
     },
     "execution_count": 57,
     "metadata": {},
     "output_type": "execute_result"
    }
   ],
   "source": [
    "counts_word = words.groupby('variety').word.value_counts().to_frame().rename(columns={'word':'number_of_words'})\n",
    "def pretty_plot_top_n(series, top_n=10, index_level=0):\n",
    "    r = series\\\n",
    "    .groupby(level=index_level)\\\n",
    "    .nlargest(top_n)\\\n",
    "    .reset_index(level=index_level, drop=True)\n",
    "    return r.to_frame()\n",
    "\n",
    "\n",
    "pretty_plot_top_n(counts_word['number_of_words'])"
   ]
  },
  {
   "cell_type": "markdown",
   "metadata": {
    "collapsed": true
   },
   "source": [
    "# Next  Steps\n",
    "\n",
    "* Explore stemming so words like \"earth\" and \"earthy' are treated as the same word\n",
    "* Double check that there isn't any punctuation to remove. The regular expressions should only have included words but I should confirm this.\n",
    "* Vectorize the descriptions using tfidf  account for words like \"flavor\" that appear in almost every single description. Also an important step to prep for the modeling phase.\n",
    "* Actually decide on and execute the model!"
   ]
  },
  {
   "cell_type": "code",
   "execution_count": null,
   "metadata": {
    "collapsed": true
   },
   "outputs": [],
   "source": []
  }
 ],
 "metadata": {
  "kernelspec": {
   "display_name": "Python 2",
   "language": "python",
   "name": "python2"
  },
  "language_info": {
   "codemirror_mode": {
    "name": "ipython",
    "version": 2
   },
   "file_extension": ".py",
   "mimetype": "text/x-python",
   "name": "python",
   "nbconvert_exporter": "python",
   "pygments_lexer": "ipython2",
   "version": "2.7.14"
  }
 },
 "nbformat": 4,
 "nbformat_minor": 2
}
